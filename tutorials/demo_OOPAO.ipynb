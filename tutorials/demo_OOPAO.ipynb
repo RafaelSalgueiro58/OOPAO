{
 "cells": [
  {
   "cell_type": "markdown",
   "metadata": {},
   "source": [
    "# OOPAO: The Python Legacy of OOMAO\n"
   ]
  },
  {
   "cell_type": "markdown",
   "metadata": {},
   "source": [
    "The list of Adaptive Optics (AO) simulators in the community has constantly been growing, guided by different needs and purposes (Compass, HCIPY, OOMAO, SOAPY, YAO…). In this paper, we present OOPAO (Object Oriented Python Adaptive Optics), a simulation tool based on the Matlab distribution OOMAO to adapt its philosphy to the Python language. This code was initially intended for internal use but the choice was made to make it public as it can benefit the community since it is fully develloped in Python. The OOPAO repository is available in free access on GitHub ( https://github.com/cheritier/OOPAO) with several tutorials. \n",
    "The tool consists of a full end-to-end simulator designed for AO analysis purposes. The principle is that the light from a given light source can be propagated through multiple objects (Atmosphere, Telescope, Deformable Mirror, Wave-Front Sensors...) among which experimental features can be input, in the spirit of OOMAO.\n",
    "This paper provides an overview of the current capabilities of the code and can be used as a user manuel for interested users."
   ]
  },
  {
   "cell_type": "markdown",
   "metadata": {},
   "source": [
    "## Getting started with OOPAO\n",
    "\n",
    "The source code of OOPAO is available on GitHub https://github.com/cheritier/OOPAO. This page provides all the informations necessary to install the required packages. "
   ]
  },
  {
   "cell_type": "code",
   "execution_count": null,
   "metadata": {},
   "outputs": [],
   "source": [
    "import matplotlib.pyplot as plt\n",
    "import numpy as np\n",
    "import OOPAO"
   ]
  },
  {
   "cell_type": "markdown",
   "metadata": {},
   "source": [
    "# How To Use OOPAO\n",
    "This section offers an overview of the main functionalities of the OOPAO code to present the philosophy of the code. "
   ]
  },
  {
   "cell_type": "markdown",
   "metadata": {},
   "source": [
    "## The Source Object\n",
    "### Initialization\n",
    "The source object carries the wavelength information as well as the flux information\n",
    "It is initialized specifying the optical band and the magnitude of the star.  "
   ]
  },
  {
   "cell_type": "code",
   "execution_count": null,
   "metadata": {},
   "outputs": [],
   "source": [
    "from OOPAO.Source import Source\n",
    "# to create a natural guide star in I band of magnitude 5\n",
    "ngs = Source(magnitude = 5,\n",
    "             optBand   ='I')"
   ]
  },
  {
   "cell_type": "markdown",
   "metadata": {},
   "source": [
    "The optical bands are defined within the `Source` object inside the `photometry` method. \n",
    "The default photometry have been imported from the OOMAO toolkit. You can edit this function to add your own optical bands. \n",
    "```\n",
    "                   [ Wavelength , Bandwidth, Zero-Point ]\n",
    "        phot.U      = [ 0.360e-6 , 0.070e-6 , 2.0e12 ]\n",
    "        phot.V      = [ 0.550e-6 , 0.090e-6 , 3.3e12 ]\n",
    "        ...\n",
    "```"
   ]
  },
  {
   "cell_type": "markdown",
   "metadata": {},
   "source": [
    "### Properties\n",
    "You can access a few properties of the ```ngs``` object: "
   ]
  },
  {
   "cell_type": "code",
   "execution_count": null,
   "metadata": {
    "scrolled": true
   },
   "outputs": [],
   "source": [
    "print('The source Wavelenght is '+str(ngs.wavelength) + ' [m] ')\n",
    "print('The source Magnitude is '+str(ngs.magnitude))\n",
    "print('The source Altitude is '+str(ngs.altitude) + ' [m] ')\n",
    "print('The source Coordinates are '+str(ngs.coordinates) + ' [arcsec,deg] ')\n",
    "print('The source Flux is '+str(ngs.nPhoton) + ' [phot/m2/s] ')\n",
    "print('The source Type is '+str(ngs.type))\n",
    "print('The source Tag is '+str(ngs.tag))"
   ]
  },
  {
   "cell_type": "markdown",
   "metadata": {},
   "source": [
    "The main properties of an OOPAO class can be displayed simply entering its name in a terminal."
   ]
  },
  {
   "cell_type": "markdown",
   "metadata": {},
   "source": [
    "## The Telescope Object\n",
    "You can import the Telescope class from OOPAO using:"
   ]
  },
  {
   "cell_type": "code",
   "execution_count": null,
   "metadata": {},
   "outputs": [],
   "source": [
    "from OOPAO.Telescope import Telescope"
   ]
  },
  {
   "cell_type": "markdown",
   "metadata": {},
   "source": [
    "The Telescope is a central object in OOPAO, it is required to initialize many of the OOPAO classes as it carries the pupil definition and pixel size.\n",
    "\n",
    "A Source object is associated to the Telescope that carries the flux and wavelength information. \n",
    "\n",
    "An Atmosphere object can be paired to the Telescope to propagate the light through turbulent phase screens.\n",
    "\n",
    "To initialize a Telescope object, you need to specify a few parameters, the diameter and the resolution of the telescope. The pixel size associated will define the pixel size of the phase-screens.\n",
    "\n",
    "The sampling of the atmospheric phase screens is driven by different factors: \n",
    "- **Sampling of the Wave-Front Sensor sub-apertures:** the WFS object requires a resolution that is `n` times the number of subaperture where `n` should be an even number $>=$ 4.\n",
    "\n",
    "- **Sampling of the turbulence:** It is recommanded to use at least 3 pixels per $r_0$, the Fried Parameter expressed at the wavelength of interest. \n",
    "- **Sampling of the influence functions of the Deformable Mirror:** Two pixels per influence functions is typically not enough and could lead to numerical errors when trying to apply a shape on the Deformable Mirror. "
   ]
  },
  {
   "cell_type": "code",
   "execution_count": null,
   "metadata": {},
   "outputs": [],
   "source": [
    "# telescope parameters\n",
    "sensing_wavelength = ngs.wavelength      # sensing wavelength of the WFS, read from the ngs object\n",
    "n_subaperture      = 20                  # number of subaperture accross the diameter\n",
    "diameter           = 8                   # diameter of the support of the phase screens in [m]\n",
    "resolution         = n_subaperture*8     # resolution of the phase screens in pixels\n",
    "pixel_size         = diameter/resolution # size of the pixels in [m]\n",
    "obs_ratio          = 0.1                 # central obstruction in fraction of the telescope diameter\n",
    "sampling_time      = 1/1000              # sampling time of the AO loop in [s]\n",
    "\n",
    "# initialize the telescope object\n",
    "tel = Telescope(diameter          = diameter,\n",
    "               resolution         = resolution,\n",
    "               centralObstruction = obs_ratio,\n",
    "               samplingTime       = sampling_time)\n",
    "\n"
   ]
  },
  {
   "cell_type": "markdown",
   "metadata": {},
   "source": [
    "We can notice that, as indicated, so far no light is propagated through the telescope. See the section **Propagating light to the Telescope**\n"
   ]
  },
  {
   "cell_type": "markdown",
   "metadata": {},
   "source": [
    "### Properties"
   ]
  },
  {
   "cell_type": "markdown",
   "metadata": {},
   "source": [
    "A few properties of the `tel` object can be accessed:\n",
    "* `tel.pupil` The pupil mask of the telescope\n",
    "* `tel.pixelArea` The number of valid pixels in the pupil\n",
    "* `tel.pupilReflectivity` User-defined pupil reflectivity (default: uniform)"
   ]
  },
  {
   "cell_type": "markdown",
   "metadata": {},
   "source": [
    "### Methods\n",
    "####  Apply spider to the pupils\n",
    "You can defin a list of angle for each spider of the telescope. A spider is defined from the center to the edge of the pupil support. If necessqry, a shift offset can be applied to the spiders.\n"
   ]
  },
  {
   "cell_type": "code",
   "execution_count": null,
   "metadata": {},
   "outputs": [],
   "source": [
    "n_spider = 4\n",
    "spider_angle = np.linspace(0+30,360+30,n_spider,endpoint=False)\n",
    "tel.apply_spiders(spider_angle,thickness_spider=0.05,offset_X=[0.15,-0.15,-0.15,0.15],offset_Y=[0.15,0.15,-0.15,-0.15])\n",
    "pupil_spiders =  tel.pupil.copy()\n",
    "# reset to initial pupil\n",
    "tel.apply_spiders(angle = [0],thickness_spider=0)\n",
    "plt.subplot(1,2,1),plt.imshow(pupil_spiders),plt.axis('off'),plt.title('Spiders')\n",
    "plt.subplot(1,2,2),plt.imshow(tel.pupil),plt.axis('off'),plt.title('No Spiders');"
   ]
  },
  {
   "cell_type": "markdown",
   "metadata": {},
   "source": [
    "### Propagating light to the Telescope\n",
    "#### Coupling a Source to the Telescope\n",
    "To propagate the light of the Source through the Telescope, it is necessary to attach the `ngs` object to the `tel` object using the `*` operator."
   ]
  },
  {
   "cell_type": "code",
   "execution_count": null,
   "metadata": {
    "scrolled": true
   },
   "outputs": [],
   "source": [
    "ngs*tel"
   ]
  },
  {
   "cell_type": "markdown",
   "metadata": {},
   "source": [
    "This time, the bottom part indicated that the NGS has been properly propagated to the telescope.\n",
    "The optical path can be displayed using the `print_optical_path()` method "
   ]
  },
  {
   "cell_type": "code",
   "execution_count": null,
   "metadata": {},
   "outputs": [],
   "source": [
    "tel.print_optical_path()"
   ]
  },
  {
   "cell_type": "markdown",
   "metadata": {},
   "source": [
    "The `tel` object now has an `src` attribute that corresponds to the `ngs` object\n"
   ]
  },
  {
   "cell_type": "markdown",
   "metadata": {},
   "source": [
    "#### Flux properties\n",
    "The flux properties are now adapted to the pupil of the telescope. \n",
    "The `tel.src` has a `fluxMap` property that displays a 2D map of the **number of photons per pixel per temporal iteration** "
   ]
  },
  {
   "cell_type": "markdown",
   "metadata": {},
   "source": [
    "#### Access the wave-front properties\n",
    "The Optical Path Difference in [m] of the wave-front can be accessed using the `tel.OPD`\n",
    "\n",
    "The Phase in [rad] wave-front can be accessed using the `ngs.phase` or the `tel.src.phase`\n"
   ]
  },
  {
   "cell_type": "markdown",
   "metadata": {},
   "source": [
    "### Compute the PSF of the system"
   ]
  },
  {
   "cell_type": "code",
   "execution_count": null,
   "metadata": {},
   "outputs": [],
   "source": [
    "# set back the reflectivity 1\n",
    "tel.pupilReflectivity = tel.pupil.astype(float)\n",
    "ngs*tel\n",
    "\n",
    "# compute PSF method\n",
    "zeroPaddingFactor = 6\n",
    "tel.computePSF(zeroPaddingFactor=zeroPaddingFactor)\n",
    "\n",
    "# get current pixel scale\n",
    "size_pixel_arcsec = 206265*(tel.src.wavelength/tel.D)/zeroPaddingFactor\n",
    "N                 = 300\n",
    "normalized_PSF    = tel.PSF[N:-N,N:-N]# crop to zoom on the center\n",
    "fov               = normalized_PSF.shape[0]*size_pixel_arcsec # get the corresponding fov\n",
    "plt.imshow(np.log10(normalized_PSF),extent=[-fov/2,fov/2,-fov/2,fov/2])\n",
    "plt.clim([-6,4]),plt.xlabel('arcsec'),plt.ylabel('arcsec');"
   ]
  },
  {
   "cell_type": "markdown",
   "metadata": {},
   "source": [
    "## The Atmosphere Object\n",
    "You can import the Telescope class from OOPAO using:"
   ]
  },
  {
   "cell_type": "code",
   "execution_count": null,
   "metadata": {},
   "outputs": [],
   "source": [
    "from OOPAO.Atmosphere import Atmosphere"
   ]
  },
  {
   "cell_type": "markdown",
   "metadata": {},
   "source": [
    "An Atmosphere is made of one or several layer of turbulence that follow the Van Karmann statistics. Each layer is considered to be independant to the other ones and has its own properties (direction, speed, etc.)\n",
    "\n",
    "The Atmosphere object can be defined for a single Source object (default) or multi Source Object (see Asterism class). The Source coordinates allow to span different areas in the field (defined as well by tel.fov).\n",
    "\n",
    "If the source type is an LGS the cone effect is considered using an interpolation. \n",
    "\n",
    "NGS and LGS can be combined together in the Asterism object. \n",
    "\n",
    "The convention chosen is that all the wavelength-dependant atmosphere parameters are expressed at 500 nm. \n"
   ]
  },
  {
   "cell_type": "code",
   "execution_count": null,
   "metadata": {},
   "outputs": [],
   "source": [
    "# setting a two layers atmosphere\n",
    "atm = Atmosphere(telescope      = tel,\n",
    "                 r0             = 0.15,\n",
    "                 L0             = 25,\n",
    "                 fractionalR0   = [0.7, 0.3  ],\n",
    "                 altitude       = [0  , 10000],\n",
    "                 windDirection  = [0  , 20   ],\n",
    "                 windSpeed      = [5  , 10   ])"
   ]
  },
  {
   "cell_type": "markdown",
   "metadata": {},
   "source": [
    "The atmosphere has to be initialized using the `atm.initializeAtmosphere()` command"
   ]
  },
  {
   "cell_type": "code",
   "execution_count": null,
   "metadata": {},
   "outputs": [],
   "source": [
    "atm.initializeAtmosphere(telescope=tel)"
   ]
  },
  {
   "cell_type": "markdown",
   "metadata": {},
   "source": [
    "The `atm` layers can be displayed using the `atm.display_atm_layers()` command"
   ]
  },
  {
   "cell_type": "code",
   "execution_count": null,
   "metadata": {},
   "outputs": [],
   "source": [
    "atm.display_atm_layers()"
   ]
  },
  {
   "cell_type": "markdown",
   "metadata": {},
   "source": [
    "The atmosphere `atm` can be combined to the telescope using the `+`. In that case, the OPD of the telescope is copied from the atmosphere OPD:"
   ]
  },
  {
   "cell_type": "code",
   "execution_count": null,
   "metadata": {},
   "outputs": [],
   "source": [
    "tel+atm\n",
    "OPD_tel_paired = tel.OPD.copy()\n",
    "tel-atm\n",
    "OPD_tel_separated = tel.OPD.copy()\n",
    "plt.subplot(1,2,1),plt.imshow(OPD_tel_paired),plt.axis('off'),plt.title('Telescope OPD (Paired)')\n",
    "plt.subplot(1,2,2),plt.imshow(OPD_tel_separated),plt.axis('off'),plt.title('Telescope OPD (Separated)');"
   ]
  },
  {
   "cell_type": "markdown",
   "metadata": {},
   "source": [
    "# Deformable Mirror\n"
   ]
  },
  {
   "cell_type": "markdown",
   "metadata": {},
   "source": [
    "The deformable mirror is mainly characterized with its influence functions. They can be user-defined and loaded in the model but the default case is a cartesian DM with gaussian influence functions and normalized to 1 [m]. \n",
    "The DM is always defined in the pupil plane and can be conjugated to different altitude. \n",
    "### Fried-Geometry\n",
    "By default, the Deformable Mirror geometry follows the Fried's definition where each actuator is located at the corner of 4 WFS sub-aperture. The number of sub-aperture is then a required parameter of the Deformable Mirror class. "
   ]
  },
  {
   "cell_type": "code",
   "execution_count": null,
   "metadata": {},
   "outputs": [],
   "source": [
    "from OOPAO.DeformableMirror import DeformableMirror\n",
    "mechanical_coupling = 0.45\n",
    "\n",
    "dm_fried = DeformableMirror(  telescope    = tel,\n",
    "                        nSubap       = n_subaperture, # by default n_subaperture+1 actuators are considered (Fried Geometry)\n",
    "                        mechCoupling = mechanical_coupling)"
   ]
  },
  {
   "cell_type": "markdown",
   "metadata": {},
   "source": [
    "The DM commands can be applied as a linear combination of the influence functions `dm.modes` setting the `dm.coefs` property:"
   ]
  },
  {
   "cell_type": "code",
   "execution_count": null,
   "metadata": {},
   "outputs": [],
   "source": [
    "dm_fried.coefs = np.random.rand(dm_fried.nValidAct)"
   ]
  },
  {
   "cell_type": "markdown",
   "metadata": {},
   "source": [
    "The light can be propagated through the telescope, passing by the deformable mirror using the `*` operator:\n"
   ]
  },
  {
   "cell_type": "code",
   "execution_count": null,
   "metadata": {},
   "outputs": [],
   "source": [
    "ngs*tel*dm_fried\n",
    "plt.subplot(1,2,1),plt.imshow(tel.OPD),plt.axis('off'),plt.title('Telescope OPD')\n",
    "plt.subplot(1,2,2),plt.imshow(dm_fried.OPD),plt.axis('off'),plt.title('Deformable Mirror OPD');"
   ]
  },
  {
   "cell_type": "markdown",
   "metadata": {},
   "source": [
    "### Mis-Registration\n",
    "To apply a mis-registration\n",
    "\n",
    "By default, the Deformable Mirror geometry follows the Fried's definition where each actuator is located at the corner of 4 WFS sub-aperture. The number of sub-aperture is then a required parameter of the Deformable Mirror class.\n"
   ]
  },
  {
   "cell_type": "code",
   "execution_count": null,
   "metadata": {
    "scrolled": true
   },
   "outputs": [],
   "source": [
    "from OOPAO.MisRegistration import MisRegistration\n",
    "\n",
    "m = MisRegistration()\n",
    "m.shiftX = 0.05*tel.D/n_subaperture\n",
    "m.shiftY = 0.1*tel.D/n_subaperture\n",
    "m.rotationAngle = 15\n",
    "m.radialScaling = 0.1\n",
    "m.tangentialScaling = 0\n",
    "m.anamorphosisAngle = 45\n",
    "\n",
    "dm_mis_registered = DeformableMirror(  telescope    = tel,\n",
    "                        nSubap       = n_subaperture, # by default n_subaperture+1 actuators are considered (Fried Geometry)\n",
    "                        mechCoupling = mechanical_coupling,\n",
    "                        misReg       = m)"
   ]
  },
  {
   "cell_type": "markdown",
   "metadata": {},
   "source": [
    "### User-defined geometry\n"
   ]
  },
  {
   "cell_type": "code",
   "execution_count": null,
   "metadata": {},
   "outputs": [],
   "source": [
    "# create a circular DM\n",
    "n_ring = 11; n_start = 5; cx = []; cy = []\n",
    "for i in range(1,n_ring+1):\n",
    "    r = i*(tel.D/2)/(n_ring)\n",
    "    theta = np.linspace(0,2*np.pi,n_start,endpoint=False)\n",
    "    cx = np.hstack((cx,(r*np.cos(theta))))\n",
    "    cy = np.hstack((cy,(r*np.sin(theta))))\n",
    "    n_start += 6\n",
    "# input coordinates must be provided in a 2D array [nAct,2]\n",
    "circular_coordinates = np.vstack((cx,cy)).T\n",
    "dm_circular = DeformableMirror(  telescope    = tel,\n",
    "                        nSubap       = n_subaperture, # by default n_subaperture+1 actuators are considered (Fried Geometry)\n",
    "                        mechCoupling = mechanical_coupling,coordinates=circular_coordinates)"
   ]
  },
  {
   "cell_type": "markdown",
   "metadata": {},
   "source": [
    "### User-Defined influence functions\n"
   ]
  },
  {
   "cell_type": "markdown",
   "metadata": {},
   "source": [
    "It is possible to input the influence functions of the DM directly. In this example, we consider a modal DM that corresponds to zernike polynomials. \n"
   ]
  },
  {
   "cell_type": "code",
   "execution_count": null,
   "metadata": {},
   "outputs": [],
   "source": [
    "from OOPAO.Zernike import Zernike\n",
    "Z = Zernike(tel,300) # create a Zernike object considering 300 polynomials\n",
    "Z.computeZernike(tel) # compute the Zernike\n",
    "Z_2D = Z.modesFullRes.reshape((tel.resolution**2,Z.nModes))# reshape the 3D cube in 2D for the dm class\n",
    "dm_Zernike = DeformableMirror( telescope = tel,\n",
    "                               nSubap    = n_subaperture, # keep it to n_subaperture ( required to apply mis-registrations)\n",
    "                               modes     = Z_2D, print_dm_properties=False)\n",
    "plt.subplot(1,2,1),plt.imshow(dm_fried.modes[:,40].reshape(tel.pupil.shape)),plt.axis('off'),plt.title('Zonal DM influence function')\n",
    "plt.subplot(1,2,2),plt.imshow(dm_Zernike.modes[:,40].reshape(tel.pupil.shape)),plt.axis('off'),plt.title('Modal DM influence function');"
   ]
  },
  {
   "cell_type": "markdown",
   "metadata": {},
   "source": [
    "We can display the cube of the influence functions to display the position of the actuators with respect to the pupil. "
   ]
  },
  {
   "cell_type": "code",
   "execution_count": null,
   "metadata": {},
   "outputs": [],
   "source": [
    "cube_IF_fried    = np.reshape(np.sum(dm_fried.modes**6,axis =1),[tel.resolution,tel.resolution])\n",
    "cube_IF_mis_reg  = np.reshape(np.sum(dm_mis_registered.modes**6,axis =1),[tel.resolution,tel.resolution])\n",
    "cube_IF_circular = np.reshape(np.sum(dm_circular.modes**6,axis =1),[tel.resolution,tel.resolution])\n",
    "\n",
    "plt.subplot(1,3,1),plt.imshow(cube_IF_fried/cube_IF_fried.max() +0.5*tel.pupil),plt.axis('off'),plt.title('Fried Geometry')\n",
    "plt.subplot(1,3,2),plt.imshow(cube_IF_mis_reg/cube_IF_mis_reg.max() +0.5*tel.pupil),plt.axis('off'),plt.title('Misregistration');\n",
    "plt.subplot(1,3,3),plt.imshow(cube_IF_circular/cube_IF_circular.max() +0.5*tel.pupil),plt.axis('off'),plt.title('User-Defined Geometry');"
   ]
  },
  {
   "cell_type": "markdown",
   "metadata": {},
   "source": [
    "# Wave-Front Sensors"
   ]
  },
  {
   "cell_type": "markdown",
   "metadata": {},
   "source": [
    "## Pyramid WFS\n",
    "The pyramid object consists mainly in defining the PWFS phase mask to apply the filtering of the electro-magnetic field. \n",
    "Many parameters can allow to tune the pyramid model:\n",
    "* Number of pixels `nSubap` along the telescope pupil support. `tel.resolution` should be a multiple of `nSubap` and >=4 \n",
    "* Cicular modulation radius in λ/D `modulation`. By default the number of modulation points ensures to have one point every λ/D on the circular trajectory but this sampling can be modified by the user. The number of modulation points is a multiple of 4 to ensure that each quadrant has the same number of modulation points. A user-defined modulation path can be input.\n",
    "* The type of post-processing of the PWFS signals (slopes-maps, full-frame,etc). To be independent from this choice, the pyramid signals are named “wfs.signal_2D” for either the Slopes-Maps or the camera frame and `signal` for the signal reduced to the valid pixels considered.\n",
    "* The intensity threshold to select the valid pixel \n",
    "* Centering of the mask and of the FFT on 1 or 4 pixels `psfCentering`\n",
    "* Number of pixels separating the PWFS pupils `n_pix_separation`\n",
    "* Number of pixels on the edge of the Pyramid pupils`n_pix_edge`\n",
    "* The modulation value for the calibration and selection of the valid pixels `calibModulation` \n",
    "\n",
    "In addition, the Pyramid object has a Detector object as a child-class that provides the pyramid signals. It can be access through `pwfs.cam`"
   ]
  },
  {
   "cell_type": "code",
   "execution_count": null,
   "metadata": {},
   "outputs": [],
   "source": [
    "from OOPAO.Pyramid import Pyramid\n",
    "\n",
    "pwfs = Pyramid(telescope        = tel,\n",
    "               nSubap           = n_subaperture,\n",
    "               modulation       = 3,\n",
    "               lightRatio       = 0.1,\n",
    "               postProcessing   = 'slopesMaps',\n",
    "               n_pix_separation = 10,\n",
    "               n_pix_edge       = 5)\n",
    "plt.figure(), \n",
    "plt.subplot(1,2,1),plt.imshow(pwfs.m),plt.title('PWFS mask') # 2D phase mask\n",
    "plt.subplot(1,2,2),plt.imshow(pwfs.cam.frame),plt.title('PWFS Camera Frame'); # camera detector frame"
   ]
  },
  {
   "cell_type": "markdown",
   "metadata": {},
   "source": [
    "It is possible to shift the Pyramid pupils using the `apply_shift_wfs` method by applying an additional Tip/Tilt on each quadrant of the phase mask"
   ]
  },
  {
   "cell_type": "code",
   "execution_count": null,
   "metadata": {},
   "outputs": [],
   "source": [
    "pwfs.apply_shift_wfs(sx=[5,0,2,0],sy=[0,0,4,0])\n",
    "plt.figure(), \n",
    "plt.subplot(1,3,1),plt.imshow(pwfs.m),plt.axis('off'), plt.title('New PWFS mask') # 2D phase mask\n",
    "plt.subplot(1,3,2),plt.imshow(pwfs.m-pwfs.initial_m),plt.axis('off'), plt.title('Differential mask') # 2D phase mask\n",
    "plt.subplot(1,3,3),plt.imshow(pwfs.cam.frame),plt.axis('off'), plt.title('Camera Frame'); # camera detector frame\n",
    "# set it back to default\n",
    "pwfs.apply_shift_wfs(sx=0,sy=0)\n"
   ]
  },
  {
   "cell_type": "markdown",
   "metadata": {},
   "source": [
    "The focal plane electric field is accessible through the `modulation_camera_em` property. \n",
    "This is used by the `get_modulation_frame` method to compute the intensity in at the focal plane, afte the Tip/Tilt modulation mirror. The `radius` allows to select the field of view."
   ]
  },
  {
   "cell_type": "code",
   "execution_count": null,
   "metadata": {},
   "outputs": [],
   "source": [
    "# acquire a frame with the focal plane camera\n",
    "pwfs*pwfs.focal_plane_camera\n",
    "plt.figure(), \n",
    "plt.subplot(1,2,1),plt.imshow(pwfs.focal_plane_camera.frame)\n",
    "plt.axis('off'), plt.title('PWFS Focal Plane'); # radius in lambda/D\n"
   ]
  },
  {
   "cell_type": "markdown",
   "metadata": {},
   "source": [
    "## Shack Hartmann WFS\n",
    "\n",
    "A Shack Hartmann object consists in defining a 2D grid of lenslet arrays located in the pupil plane of the telescope to estimate the local tip/tilt seen by each lenslet. \n",
    "By default the Shack Hartmann detector is considered to be noise-free (for calibration purposes). These properties can be switched on and off on the fly (see properties)\n",
    "        It requires the following parameters: "
   ]
  },
  {
   "cell_type": "markdown",
   "metadata": {},
   "source": [
    "* The number of lenslets `nSubap` accross the support of the telescope pupil \n",
    "* The intensity threshold `lightRatio` to select the valid lenslets\n",
    "* The flag `is_geometric` to switch from diffractive to geometric Shack Hartmann\n",
    "* `shannon_sampling` to sample the diffractive spots with 2 pixels per lambd/D (`True`) or 1 pixel per lambda/D (`False`)\n",
    "* theshold to compute the center of gravity `threshold_cog` with respect to the maximum value of the image\n",
    "\n"
   ]
  },
  {
   "cell_type": "code",
   "execution_count": null,
   "metadata": {},
   "outputs": [],
   "source": [
    "from OOPAO.ShackHartmann import ShackHartmann\n",
    "shwfs = ShackHartmann(telescope    = tel,\n",
    "              nSubap             = n_subaperture,\n",
    "              lightRatio         = 0.5,\n",
    "              is_geometric       = False, \n",
    "              shannon_sampling   = True,\n",
    "              threshold_cog      = 0.1)\n",
    "plt.figure(), \n",
    "plt.subplot(1,2,1),plt.imshow(shwfs.valid_subapertures),plt.title('SH-WFS Valid lenslets') # 2D phase mask\n",
    "plt.subplot(1,2,2),plt.imshow(shwfs.cam.frame),plt.title('SH-WFS Camera Frame'); # camera detector frame"
   ]
  },
  {
   "cell_type": "markdown",
   "metadata": {},
   "source": [
    "it is possible to switch from geometric to diffractive shack hartmann simply by setting `wfs.is_geometric` to `True` or `False`"
   ]
  },
  {
   "cell_type": "code",
   "execution_count": null,
   "metadata": {},
   "outputs": [],
   "source": [
    "# make sure that the telescope OPD is initiliazed\n",
    "tel.resetOPD()\n",
    "ngs*tel*shwfs\n",
    "shwfs.is_geometric = True"
   ]
  },
  {
   "cell_type": "markdown",
   "metadata": {},
   "source": [
    "# Modal Basis\n",
    "A few modal basis or available in OOPAO: Zernike and KL Modes.\n",
    "## Zernike Polynomials"
   ]
  },
  {
   "cell_type": "code",
   "execution_count": null,
   "metadata": {
    "scrolled": true
   },
   "outputs": [],
   "source": [
    "from OOPAO.Zernike import Zernike\n",
    "Z = Zernike(tel,9)      # first initialize the Zernike object\n",
    "Z.computeZernike(tel)   # compute the Zernike for the desired telescope\n",
    "plt.figure()\n",
    "for i in range(3):\n",
    "    plt.subplot(1,3,i+1)\n",
    "    plt.imshow(Z.modesFullRes[:,:,i]),plt.axis('off'), plt.title(Z.modeName(i));"
   ]
  },
  {
   "cell_type": "markdown",
   "metadata": {},
   "source": [
    "The Zernike can be projected on the `dm`using the dm influence functions `modes` from the `dm` object"
   ]
  },
  {
   "cell_type": "code",
   "execution_count": null,
   "metadata": {},
   "outputs": [],
   "source": [
    "M2C_zernike = np.linalg.pinv(np.squeeze(dm_fried.modes[tel.pupilLogical,:]))@Z.modes"
   ]
  },
  {
   "cell_type": "markdown",
   "metadata": {},
   "source": [
    "It is possible to display the modal basis using the `displayMap` function"
   ]
  },
  {
   "cell_type": "code",
   "execution_count": null,
   "metadata": {},
   "outputs": [],
   "source": [
    "from OOPAO.tools.displayTools import displayMap\n",
    "dm_fried.coefs = M2C_zernike[:,:9]\n",
    "ngs*tel*dm_fried\n",
    "displayMap(tel.OPD)"
   ]
  },
  {
   "cell_type": "markdown",
   "metadata": {},
   "source": [
    "## KL Modal Basis\n",
    "A simplified function is available to provide KL modes orthogonal in the DM space, forcing the Tip/Tilt to be included in the Modal basis. \n",
    "\n",
    "A more detailed fonctions is available in the `compute_KL_modal_basis` if required."
   ]
  },
  {
   "cell_type": "code",
   "execution_count": null,
   "metadata": {},
   "outputs": [],
   "source": [
    "from OOPAO.calibration.compute_KL_modal_basis import compute_KL_basis\n",
    "M2C_KL = compute_KL_basis(tel=tel,atm =atm,dm=dm_fried)"
   ]
  },
  {
   "cell_type": "code",
   "execution_count": null,
   "metadata": {},
   "outputs": [],
   "source": [
    "dm_fried.coefs = M2C_KL[:,:9]\n",
    "ngs*tel*dm_fried\n",
    "displayMap(tel.OPD)"
   ]
  },
  {
   "cell_type": "markdown",
   "metadata": {},
   "source": [
    "# Calibration\n",
    "The measurement of the interaction matrix is done using the `InteractionMatrix` class"
   ]
  },
  {
   "cell_type": "code",
   "execution_count": null,
   "metadata": {},
   "outputs": [],
   "source": [
    "tel.display_optical_path = False\n",
    "from OOPAO.calibration.InteractionMatrix import InteractionMatrix\n",
    "\n",
    "# modal interaction matrix\n",
    "calib_modal = InteractionMatrix( ngs      = ngs,                    \n",
    "                                 atm            = atm,                   \n",
    "                                 tel            = tel,              \n",
    "                                 dm             = dm_fried,         \n",
    "                                 wfs            = shwfs,            \n",
    "                                 M2C            = M2C_KL[:,:300],   # M2C matrix to use for the calibratio\n",
    "                                 stroke         = 1e-9,             # stroke for the calibration in [nm]\n",
    "                                 nMeasurements  = 1,               # number of measurements in parallel\n",
    "                                 noise          = 'off')            # enable noise during the calibration"
   ]
  },
  {
   "cell_type": "markdown",
   "metadata": {},
   "source": [
    "The details of the pseudo inverse of the interaction matrix are accessible within the properties of `calib_modal`. \n",
    "\n",
    "The input matrix is denoted  `calib_modal.D` and its pseudo inverse  `calib_modal.M`. \n",
    "\n",
    "By default, no singular values are truncated in the pseudo inverse: \n",
    "$M = (D^T.D)^{-1}D^T$\n",
    "\n",
    "It is possible to recompute `calib_modal.M` truncating singular values using the `calib_modal.nTrunc` property:"
   ]
  },
  {
   "cell_type": "code",
   "execution_count": null,
   "metadata": {
    "scrolled": true
   },
   "outputs": [],
   "source": [
    "# truncate the 10 last singular values \n",
    "calib_modal.nTrunc = 10"
   ]
  },
  {
   "cell_type": "markdown",
   "metadata": {},
   "source": [
    "## Reconstructing  a phase from WFS measurements\n",
    "It is now possible to reconstruct a given phase using wfs measurements using the `calib_modal.M` matrix:\n",
    "\n"
   ]
  },
  {
   "cell_type": "code",
   "execution_count": null,
   "metadata": {},
   "outputs": [],
   "source": [
    "input_modes = np.random.randn(300)*1e-9\n",
    "dm_fried.coefs = M2C_KL[:,:300]@ input_modes\n",
    "ngs*tel*dm_fried*shwfs\n",
    "\n",
    "plt.plot(input_modes,label='Input')\n",
    "plt.plot(calib_modal.M@shwfs.signal,'o',label='Reconstructed')\n",
    "plt.xlabel(''),plt.legend();"
   ]
  },
  {
   "cell_type": "markdown",
   "metadata": {},
   "source": [
    "# Closed Loop Tutorial\n",
    "This is a simple closed-loop tutorial. To get the visual simulation with a GUI, make use of the tutorials codes in a simulation environment that allows interactive display."
   ]
  },
  {
   "cell_type": "code",
   "execution_count": null,
   "metadata": {
    "scrolled": true
   },
   "outputs": [],
   "source": [
    "# Define a scientific source: \n",
    "src = Source('K',10)\n",
    "tel.resetOPD()  # initialize Telescope\n",
    "dm = dm_fried\n",
    "dm_fried.coefs=0      # initialize DM commands\n",
    "\n",
    "tel+atm # combine tel and atm to enable turbulence\n",
    "\n",
    "tel.computePSF(4)\n",
    "   \n",
    "# These are the calibration data used to close the loop\n",
    "calib_CL    = calib_modal\n",
    "M2C_CL      = M2C_KL[:,:300]\n",
    "\n",
    "# initialize DM commands\n",
    "ngs*tel*dm*shwfs\n",
    "\n",
    "nLoop = 200\n",
    "\n",
    "# allocate memory to save data\n",
    "SR                      = np.zeros(nLoop)\n",
    "total                   = np.zeros(nLoop)\n",
    "residual                = np.zeros(nLoop)\n",
    "wfsSignal               = np.arange(0,shwfs.nSignal)*0\n",
    "\n",
    "# loop parameters\n",
    "gainCL                  = 0.4\n",
    "display                 = True\n",
    "\n",
    "reconstructor = M2C_CL@calib_CL.M\n",
    "\n",
    "for i in range(nLoop):\n",
    "    # update phase screens => overwrite tel.OPD and consequently tel.src.phase\n",
    "    atm.update()\n",
    "    # save phase variance\n",
    "    total[i]=np.std(tel.OPD[np.where(tel.pupil>0)])*1e9\n",
    "    # save turbulent phase\n",
    "    turbPhase = tel.src.phase\n",
    "    # propagate to the WFS with the CL commands applied\n",
    "    ngs*tel*dm*shwfs\n",
    "    # propagate to the source with the CL commands applied\n",
    "    src*tel\n",
    "    dm.coefs=dm.coefs-gainCL*np.matmul(reconstructor,wfsSignal)\n",
    "    # store the slopes after computing the commands => 2 frames delay\n",
    "    wfsSignal=shwfs.signal\n",
    "    # store data   \n",
    "    SR[i]=np.exp(-np.var(tel.src.phase[np.where(tel.pupil==1)]))\n",
    "    residual[i]=np.std(tel.OPD[np.where(tel.pupil>0)])*1e9\n",
    "    print('Loop'+str(i)+'/'+str(nLoop)+' AO residual: '+str(residual[i])+' nm')\n",
    "\n",
    "# plot when done\n",
    "plt.figure()\n",
    "plt.plot(total)\n",
    "plt.plot(residual)"
   ]
  },
  {
   "cell_type": "code",
   "execution_count": null,
   "metadata": {},
   "outputs": [],
   "source": []
  }
 ],
 "metadata": {
  "kernelspec": {
   "display_name": "Python 3 (ipykernel)",
   "language": "python",
   "name": "python3"
  },
  "language_info": {
   "codemirror_mode": {
    "name": "ipython",
    "version": 3
   },
   "file_extension": ".py",
   "mimetype": "text/x-python",
   "name": "python",
   "nbconvert_exporter": "python",
   "pygments_lexer": "ipython3",
   "version": "3.12.7"
  }
 },
 "nbformat": 4,
 "nbformat_minor": 4
}
