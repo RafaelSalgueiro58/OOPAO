{
 "cells": [
  {
   "cell_type": "code",
   "id": "initial_id",
   "metadata": {
    "collapsed": true
   },
   "source": [
    "import matplotlib.pyplot as plt\n",
    "import numpy as np\n",
    "import OOPAO\n",
    "import tomoAO\n",
    "from importlib import reload\n"
   ],
   "outputs": [],
   "execution_count": null
  },
  {
   "metadata": {},
   "cell_type": "code",
   "source": [
    "ao_mode = \"MLAO\"\n",
    "\n",
    "config_dir = \"/home/joaomonteiro/Desktop/OOPAO_ast/tutorials/\"\n",
    "config_file = \"config.ini\"\n",
    "\n",
    "# Loading the config\n",
    "config_vars = tomoAO.IO.load_from_ini(config_file, ao_mode=ao_mode,config_dir=config_dir)"
   ],
   "id": "fb21579bb982cbed",
   "outputs": [],
   "execution_count": null
  },
  {
   "metadata": {},
   "cell_type": "code",
   "source": [
    "from OOPAO.Source import Source\n",
    "from OOPAO.Asterism import Asterism\n",
    "reload(OOPAO.Source)\n",
    "reload(OOPAO.Asterism)\n",
    "from OOPAO.Source import Source\n",
    "from OOPAO.Asterism import Asterism\n",
    "\n",
    "\n",
    "optBand = config_vars[\"lgs_opticalBand\"]\n",
    "magnitude = config_vars[\"lgs_magnitude\"]\n",
    "lgs_zenith = config_vars[\"lgs_zenith\"]\n",
    "lgs_azimuth = config_vars[\"lgs_azimuth\"]\n",
    "\n",
    "n_lgs = 4\n",
    "\n",
    "lgsAst = Asterism([Source(optBand=optBand,\n",
    "              magnitude=magnitude,\n",
    "              coordinates=[lgs_zenith[kLgs], lgs_azimuth[kLgs]])\n",
    "          for kLgs in range(n_lgs)])\n"
   ],
   "id": "923ccf21e233479c",
   "outputs": [],
   "execution_count": null
  },
  {
   "metadata": {},
   "cell_type": "code",
   "source": "SciSrc = Source('K',10)\n",
   "id": "213d7e62fee364af",
   "outputs": [],
   "execution_count": null
  },
  {
   "metadata": {},
   "cell_type": "code",
   "source": [
    "from OOPAO.Telescope import Telescope\n",
    "reload(OOPAO.Telescope)\n",
    "from OOPAO.Telescope import Telescope\n",
    "\n",
    "\n",
    "sensing_wavelength = lgsAst.src[0].wavelength      # sensing wavelength of the WFS, read from the ngs object\n",
    "n_subaperture      = 20                  # number of subaperture across the diameter\n",
    "diameter           = 8                   # diameter of the support of the phase screens in [m]\n",
    "resolution         = n_subaperture*8     # resolution of the phase screens in pixels\n",
    "pixel_size         = diameter/resolution # size of the pixels in [m]\n",
    "obs_ratio          = 0.1                 # central obstruction in fraction of the telescope diameter\n",
    "sampling_time      = 1/1000              # sampling time of the AO loop in [s]\n",
    "fieldOfViewInArcsec = 5\n",
    "\n",
    "# initialize the telescope object\n",
    "tel = Telescope(diameter          = diameter,\n",
    "               resolution         = resolution,\n",
    "               centralObstruction = obs_ratio,\n",
    "               samplingTime       = sampling_time,\n",
    "               fov                = fieldOfViewInArcsec)\n"
   ],
   "id": "f3a9aa5a4f080181",
   "outputs": [],
   "execution_count": null
  },
  {
   "metadata": {},
   "cell_type": "code",
   "source": [
    "print(\"lgsAst:\")\n",
    "lgsAst.print_optical_path()\n",
    "\n",
    "print(\"\\nSciSrc:\")\n",
    "SciSrc.print_optical_path()"
   ],
   "id": "220c09af7172d0ec",
   "outputs": [],
   "execution_count": null
  },
  {
   "metadata": {},
   "cell_type": "code",
   "source": "plt.imshow(lgsAst.OPD[0])",
   "id": "1aa4f3bba5a3f2d5",
   "outputs": [],
   "execution_count": null
  },
  {
   "metadata": {},
   "cell_type": "code",
   "source": [
    "from OOPAO.Atmosphere import Atmosphere\n",
    "reload(OOPAO.Atmosphere)\n",
    "from OOPAO.Atmosphere import Atmosphere\n",
    "\n",
    "\n",
    "r0 = config_vars[\"r0\"]\n",
    "L0 = config_vars[\"L0\"]\n",
    "\n",
    "fractionnalR0 = config_vars[\"fractionnalR0\"]\n",
    "windSpeed = config_vars[\"windSpeed\"]\n",
    "windDirection = config_vars[\"windDirection\"]\n",
    "altitude = config_vars[\"altitude\"]\n",
    "\n",
    "\n",
    "lgsAst**tel\n",
    "\n",
    "\n",
    "atm = Atmosphere(telescope      = tel,\n",
    "                 r0             = r0,\n",
    "                 L0             = L0,\n",
    "                 fractionalR0   = fractionnalR0,\n",
    "                 altitude       = altitude,\n",
    "                 windDirection  = windDirection,\n",
    "                 windSpeed      = windSpeed)\n",
    "\n",
    "\n",
    "atm.initializeAtmosphere(telescope=tel)\n"
   ],
   "id": "7c49dcba52f9c811",
   "outputs": [],
   "execution_count": null
  },
  {
   "metadata": {},
   "cell_type": "code",
   "source": "lgsAst.print_optical_path()",
   "id": "9eca1c36c384cad8",
   "outputs": [],
   "execution_count": null
  },
  {
   "metadata": {},
   "cell_type": "code",
   "source": "lgsAst**tel",
   "id": "39f0f732b91e305a",
   "outputs": [],
   "execution_count": null
  },
  {
   "metadata": {},
   "cell_type": "code",
   "source": [
    "fig, axes = plt.subplots(1, 4, figsize=(20, 4))\n",
    "\n",
    "for i in range(n_lgs):\n",
    "    axes[i].imshow(lgsAst.OPD[i])\n",
    "    axes[i].axis('off')\n",
    "    axes[i].set_title(f'Asterism OPD {i}')\n"
   ],
   "id": "a1dcd4a5985be32b",
   "outputs": [],
   "execution_count": null
  },
  {
   "metadata": {},
   "cell_type": "code",
   "source": "tel+atm",
   "id": "dd031d1a2d5b3687",
   "outputs": [],
   "execution_count": null
  },
  {
   "metadata": {},
   "cell_type": "code",
   "source": [
    "for n in range(1000):\n",
    "    lgsAst**tel\n",
    "\n",
    "    if n%100 == 0:\n",
    "        fig, axes = plt.subplots(1, 4, figsize=(20, 4))\n",
    "\n",
    "        for i in range(n_lgs):\n",
    "            axes[i].imshow(lgsAst.OPD[i])\n",
    "            axes[i].axis('off')\n",
    "            axes[i].set_title(f'Asterism OPD {i}')\n",
    "\n",
    "        plt.show()\n",
    "    atm.update()\n"
   ],
   "id": "366bd4b2da4e9bd4",
   "outputs": [],
   "execution_count": null
  },
  {
   "metadata": {},
   "cell_type": "code",
   "source": "lgsAst**tel\n",
   "id": "2fdb8ea1a3f86b77",
   "outputs": [],
   "execution_count": null
  },
  {
   "metadata": {},
   "cell_type": "code",
   "source": [
    "print(\"lgsAst:\")\n",
    "lgsAst.print_optical_path()\n",
    "\n",
    "print(\"\\nSciSrc:\")\n",
    "SciSrc.print_optical_path()"
   ],
   "id": "e87619d812767c28",
   "outputs": [],
   "execution_count": null
  },
  {
   "metadata": {},
   "cell_type": "code",
   "source": "plt.imshow(lgsAst.OPD[0])",
   "id": "a352e3c350229539",
   "outputs": [],
   "execution_count": null
  },
  {
   "metadata": {},
   "cell_type": "code",
   "source": "",
   "id": "7607e32d97c90adb",
   "outputs": [],
   "execution_count": null
  },
  {
   "metadata": {},
   "cell_type": "code",
   "source": "SciSrc**tel",
   "id": "f52d5b8c74e60c3d",
   "outputs": [],
   "execution_count": null
  },
  {
   "metadata": {},
   "cell_type": "code",
   "source": [
    "print(\"lgsAst:\")\n",
    "lgsAst.print_optical_path()\n",
    "\n",
    "print(\"\\nSciSrc:\")\n",
    "SciSrc.print_optical_path()"
   ],
   "id": "405d08f2807b14bb",
   "outputs": [],
   "execution_count": null
  },
  {
   "metadata": {},
   "cell_type": "code",
   "source": "atm.asterism",
   "id": "ecb678fab2c2730d",
   "outputs": [],
   "execution_count": null
  },
  {
   "metadata": {},
   "cell_type": "code",
   "source": "atm.telescope.src.coordinates",
   "id": "b4d409d616b35dc4",
   "outputs": [],
   "execution_count": null
  },
  {
   "metadata": {},
   "cell_type": "code",
   "source": "SciSrc**tel",
   "id": "282f873c8c2b8f48",
   "outputs": [],
   "execution_count": null
  },
  {
   "metadata": {},
   "cell_type": "code",
   "source": "tel-atm",
   "id": "b459800f67f06c60",
   "outputs": [],
   "execution_count": null
  },
  {
   "metadata": {},
   "cell_type": "code",
   "source": "tel+atm",
   "id": "8a65726326ed5a56",
   "outputs": [],
   "execution_count": null
  },
  {
   "metadata": {},
   "cell_type": "code",
   "source": "atm.telescope.src.coordinates",
   "id": "52ecfcf489c7626d",
   "outputs": [],
   "execution_count": null
  },
  {
   "metadata": {},
   "cell_type": "code",
   "source": [
    "plt.imshow(SciSrc.OPD)\n",
    "plt.colorbar()"
   ],
   "id": "a8acdb01d09f9259",
   "outputs": [],
   "execution_count": null
  },
  {
   "metadata": {},
   "cell_type": "code",
   "source": "atm.telescope.src.coordinates",
   "id": "acf3e378ca42dd8e",
   "outputs": [],
   "execution_count": null
  },
  {
   "metadata": {},
   "cell_type": "code",
   "source": "atm.asterism",
   "id": "69719342b4da53f4",
   "outputs": [],
   "execution_count": null
  },
  {
   "metadata": {},
   "cell_type": "code",
   "source": "lgsAst**tel",
   "id": "7f89f6ae594c4f83",
   "outputs": [],
   "execution_count": null
  },
  {
   "metadata": {},
   "cell_type": "code",
   "source": [
    "plt.imshow(lgsAst.OPD[1]-SciSrc.OPD)\n",
    "plt.colorbar()"
   ],
   "id": "a928f11eb0949dcf",
   "outputs": [],
   "execution_count": null
  },
  {
   "metadata": {},
   "cell_type": "code",
   "source": "",
   "id": "421714fb39af1b6",
   "outputs": [],
   "execution_count": null
  },
  {
   "metadata": {
    "ExecuteTime": {
     "end_time": "2025-05-22T14:40:14.648131Z",
     "start_time": "2025-05-22T14:40:14.203542Z"
    }
   },
   "cell_type": "code",
   "source": [
    "import numpy as np\n",
    "import math\n",
    "import numba as nb\n",
    "from scipy.special import gamma\n",
    "from scipy.sparse import block_diag\n",
    "\n",
    "@nb.njit(nb.complex128(nb.complex128), cache=False)\n",
    "def _kv56_scalar(z):\n",
    "    \"\"\"Scalar implementation used as kernel for array version\"\"\"\n",
    "    # Precomputed Gamma function values for v=5/6\n",
    "    gamma_1_6 = 5.56631600178  # Gamma(1/6)\n",
    "    gamma_11_6 = 0.94065585824  # Gamma(11/6)\n",
    "    # Precompute constants for numerical stability\n",
    "    # Constants for the series expansion and asymptotic approximation\n",
    "    v = 5.0 / 6.0\n",
    "    z_abs = np.abs(z)\n",
    "    if z_abs < 2.0:\n",
    "        # Series expansion for small |z|\n",
    "        sum_a = 0.0j\n",
    "        sum_b = 0.0j\n",
    "        term_a = (0.5 * z)**v / gamma_11_6\n",
    "        term_b = (0.5 * z)**-v / gamma_1_6\n",
    "        sum_a += term_a\n",
    "        sum_b += term_b\n",
    "        z_sq_over_4 = (0.5 * z)**2\n",
    "        k = 1\n",
    "        tol = 1e-15\n",
    "        max_iter = 1000\n",
    "        for _ in range(max_iter):\n",
    "            factor_a = z_sq_over_4 / (k * (k + v))\n",
    "            term_a *= factor_a\n",
    "            sum_a += term_a\n",
    "            factor_b = z_sq_over_4 / (k * (k - v))\n",
    "            term_b *= factor_b\n",
    "            sum_b += term_b\n",
    "            if abs(term_a) < tol * abs(sum_a) and abs(term_b) < tol * abs(sum_b):\n",
    "                break\n",
    "            k += 1\n",
    "        K = np.pi * (sum_b - sum_a)\n",
    "    else:\n",
    "        # Asymptotic expansion for large |z|\n",
    "        z_inv = 1.0 / z\n",
    "        sum_terms = 1.0 + (2.0/9.0)*z_inv + (-7.0/81.0)*z_inv**2 + \\\n",
    "                    (175.0/2187.0)*z_inv**3 + (-2275.0/19683.0)*z_inv**4 + \\\n",
    "                    (5005.0/177147.0)*z_inv**5  #+ (-2662660.0/4782969.0)*z_inv**6\n",
    "        prefactor = np.sqrt(np.pi/(2.0*z)) * np.exp(-z)\n",
    "        K = prefactor * sum_terms\n",
    "    return K\n",
    "\n",
    "# Vectorized version outside the class\n",
    "@nb.vectorize([nb.complex128(nb.complex128),  # Complex input\n",
    "            nb.complex128(nb.float64)],    # Real input\n",
    "            nopython=True, target='parallel')\n",
    "def _kv56(z):\n",
    "    \"\"\"\n",
    "    Modified Bessel function K_{5/6}(z) for numpy arrays\n",
    "    Handles both real and complex inputs efficiently\n",
    "    \"\"\"\n",
    "    return _kv56_scalar(z)\n",
    "\n",
    "\n"
   ],
   "id": "71282b3de30122b1",
   "outputs": [],
   "execution_count": 53
  },
  {
   "metadata": {
    "ExecuteTime": {
     "end_time": "2025-05-22T14:46:21.591935Z",
     "start_time": "2025-05-22T14:46:21.476096Z"
    }
   },
   "cell_type": "code",
   "source": [
    "from numba import njit, prange\n",
    "from math import gamma\n",
    "\n",
    "@njit(parallel=True)\n",
    "def bessel_i_series_numba(x, n, terms=50):\n",
    "    size = x.shape[0]\n",
    "    result = np.zeros(size, dtype=np.float64)\n",
    "\n",
    "    for idx in prange(size):\n",
    "        xi = x[idx]\n",
    "        coeff = (xi / 2.0) ** n / gamma(n + 1)\n",
    "        term = coeff\n",
    "        sum_result = term\n",
    "        x_sq_half = (xi / 2.0) ** 2\n",
    "\n",
    "        for m in range(1, terms):\n",
    "            term *= x_sq_half / (m * (m + n))\n",
    "            sum_result += term\n",
    "\n",
    "        result[idx] = sum_result\n",
    "\n",
    "    return result\n",
    "\n",
    "\n",
    "# Vectorized version outside the class\n",
    "@nb.vectorize([nb.complex128(nb.complex128),  # Complex input\n",
    "            nb.complex128(nb.float64)],    # Real input\n",
    "            nopython=True, target='parallel')\n",
    "def _kv56(z):\n",
    "    \"\"\"\n",
    "    Modified Bessel function K_{5/6}(z) for numpy arrays\n",
    "    Handles both real and complex inputs efficiently\n",
    "    \"\"\"\n",
    "\n",
    "\n",
    "    return (np.pi / 2) * (bessel_i_series_numba(5/6, z) - bessel_i_series_numba(-5/6, z)) / np.sin(5/6 * np.pi)\n",
    "\n"
   ],
   "id": "9b825f664c4223c1",
   "outputs": [
    {
     "ename": "TypingError",
     "evalue": "Failed in nopython mode pipeline (step: nopython frontend)\nFailed in nopython mode pipeline (step: nopython frontend)\nUnknown attribute 'shape' of type float64\n\nFile \"../../../../../tmp/ipykernel_16049/834780515.py\", line 6:\n<source missing, REPL/exec in use?>\n\nDuring: typing of get attribute at /tmp/ipykernel_16049/834780515.py (6)\n\nFile \"../../../../../tmp/ipykernel_16049/834780515.py\", line 6:\n<source missing, REPL/exec in use?>\n\nDuring: Pass nopython_type_inference\nDuring: resolving callee type: type(CPUDispatcher(<function bessel_i_series_numba at 0x7409ff3672e0>))\nDuring: typing of call at /tmp/ipykernel_16049/834780515.py (36)\n\nDuring: resolving callee type: type(CPUDispatcher(<function bessel_i_series_numba at 0x7409ff3672e0>))\nDuring: typing of call at /tmp/ipykernel_16049/834780515.py (36)\n\nDuring: resolving callee type: type(CPUDispatcher(<function bessel_i_series_numba at 0x7409ff3672e0>))\nDuring: typing of call at /tmp/ipykernel_16049/834780515.py (36)\n\n\nFile \"../../../../../tmp/ipykernel_16049/834780515.py\", line 36:\n<source missing, REPL/exec in use?>\n\nDuring: Pass nopython_type_inference",
     "output_type": "error",
     "traceback": [
      "\u001B[0;31m---------------------------------------------------------------------------\u001B[0m",
      "\u001B[0;31mTypingError\u001B[0m                               Traceback (most recent call last)",
      "Cell \u001B[0;32mIn[68], line 29\u001B[0m\n\u001B[1;32m     22\u001B[0m     \u001B[38;5;28;01mreturn\u001B[39;00m result\n\u001B[1;32m     25\u001B[0m \u001B[38;5;66;03m# Vectorized version outside the class\u001B[39;00m\n\u001B[1;32m     26\u001B[0m \u001B[38;5;129;43m@nb\u001B[39;49m\u001B[38;5;241;43m.\u001B[39;49m\u001B[43mvectorize\u001B[49m\u001B[43m(\u001B[49m\u001B[43m[\u001B[49m\u001B[43mnb\u001B[49m\u001B[38;5;241;43m.\u001B[39;49m\u001B[43mcomplex128\u001B[49m\u001B[43m(\u001B[49m\u001B[43mnb\u001B[49m\u001B[38;5;241;43m.\u001B[39;49m\u001B[43mcomplex128\u001B[49m\u001B[43m)\u001B[49m\u001B[43m,\u001B[49m\u001B[43m  \u001B[49m\u001B[38;5;66;43;03m# Complex input\u001B[39;49;00m\n\u001B[1;32m     27\u001B[0m \u001B[43m            \u001B[49m\u001B[43mnb\u001B[49m\u001B[38;5;241;43m.\u001B[39;49m\u001B[43mcomplex128\u001B[49m\u001B[43m(\u001B[49m\u001B[43mnb\u001B[49m\u001B[38;5;241;43m.\u001B[39;49m\u001B[43mfloat64\u001B[49m\u001B[43m)\u001B[49m\u001B[43m]\u001B[49m\u001B[43m,\u001B[49m\u001B[43m    \u001B[49m\u001B[38;5;66;43;03m# Real input\u001B[39;49;00m\n\u001B[1;32m     28\u001B[0m \u001B[43m            \u001B[49m\u001B[43mnopython\u001B[49m\u001B[38;5;241;43m=\u001B[39;49m\u001B[38;5;28;43;01mTrue\u001B[39;49;00m\u001B[43m,\u001B[49m\u001B[43m \u001B[49m\u001B[43mtarget\u001B[49m\u001B[38;5;241;43m=\u001B[39;49m\u001B[38;5;124;43m'\u001B[39;49m\u001B[38;5;124;43mparallel\u001B[39;49m\u001B[38;5;124;43m'\u001B[39;49m\u001B[43m)\u001B[49m\n\u001B[0;32m---> 29\u001B[0m \u001B[38;5;28;43;01mdef\u001B[39;49;00m\u001B[38;5;250;43m \u001B[39;49m\u001B[38;5;21;43m_kv56\u001B[39;49m\u001B[43m(\u001B[49m\u001B[43mz\u001B[49m\u001B[43m)\u001B[49m\u001B[43m:\u001B[49m\n\u001B[1;32m     30\u001B[0m \u001B[38;5;250;43m    \u001B[39;49m\u001B[38;5;124;43;03m\"\"\"\u001B[39;49;00m\n\u001B[1;32m     31\u001B[0m \u001B[38;5;124;43;03m    Modified Bessel function K_{5/6}(z) for numpy arrays\u001B[39;49;00m\n\u001B[1;32m     32\u001B[0m \u001B[38;5;124;43;03m    Handles both real and complex inputs efficiently\u001B[39;49;00m\n\u001B[1;32m     33\u001B[0m \u001B[38;5;124;43;03m    \"\"\"\u001B[39;49;00m\n\u001B[1;32m     36\u001B[0m \u001B[43m    \u001B[49m\u001B[38;5;28;43;01mreturn\u001B[39;49;00m\u001B[43m \u001B[49m\u001B[43m(\u001B[49m\u001B[43mnp\u001B[49m\u001B[38;5;241;43m.\u001B[39;49m\u001B[43mpi\u001B[49m\u001B[43m \u001B[49m\u001B[38;5;241;43m/\u001B[39;49m\u001B[43m \u001B[49m\u001B[38;5;241;43m2\u001B[39;49m\u001B[43m)\u001B[49m\u001B[43m \u001B[49m\u001B[38;5;241;43m*\u001B[39;49m\u001B[43m \u001B[49m\u001B[43m(\u001B[49m\u001B[43mbessel_i_series_numba\u001B[49m\u001B[43m(\u001B[49m\u001B[38;5;241;43m5\u001B[39;49m\u001B[38;5;241;43m/\u001B[39;49m\u001B[38;5;241;43m6\u001B[39;49m\u001B[43m,\u001B[49m\u001B[43m \u001B[49m\u001B[43mz\u001B[49m\u001B[43m)\u001B[49m\u001B[43m \u001B[49m\u001B[38;5;241;43m-\u001B[39;49m\u001B[43m \u001B[49m\u001B[43mbessel_i_series_numba\u001B[49m\u001B[43m(\u001B[49m\u001B[38;5;241;43m-\u001B[39;49m\u001B[38;5;241;43m5\u001B[39;49m\u001B[38;5;241;43m/\u001B[39;49m\u001B[38;5;241;43m6\u001B[39;49m\u001B[43m,\u001B[49m\u001B[43m \u001B[49m\u001B[43mz\u001B[49m\u001B[43m)\u001B[49m\u001B[43m)\u001B[49m\u001B[43m \u001B[49m\u001B[38;5;241;43m/\u001B[39;49m\u001B[43m \u001B[49m\u001B[43mnp\u001B[49m\u001B[38;5;241;43m.\u001B[39;49m\u001B[43msin\u001B[49m\u001B[43m(\u001B[49m\u001B[38;5;241;43m5\u001B[39;49m\u001B[38;5;241;43m/\u001B[39;49m\u001B[38;5;241;43m6\u001B[39;49m\u001B[43m \u001B[49m\u001B[38;5;241;43m*\u001B[39;49m\u001B[43m \u001B[49m\u001B[43mnp\u001B[49m\u001B[38;5;241;43m.\u001B[39;49m\u001B[43mpi\u001B[49m\u001B[43m)\u001B[49m\n",
      "File \u001B[0;32m~/Desktop/OOPAO_ast/env_oopao_ast/lib/python3.10/site-packages/numba/np/ufunc/decorators.py:131\u001B[0m, in \u001B[0;36mvectorize.<locals>.wrap\u001B[0;34m(func)\u001B[0m\n\u001B[1;32m    129\u001B[0m vec \u001B[38;5;241m=\u001B[39m Vectorize(func, \u001B[38;5;241m*\u001B[39m\u001B[38;5;241m*\u001B[39mkws)\n\u001B[1;32m    130\u001B[0m \u001B[38;5;28;01mfor\u001B[39;00m sig \u001B[38;5;129;01min\u001B[39;00m ftylist:\n\u001B[0;32m--> 131\u001B[0m     \u001B[43mvec\u001B[49m\u001B[38;5;241;43m.\u001B[39;49m\u001B[43madd\u001B[49m\u001B[43m(\u001B[49m\u001B[43msig\u001B[49m\u001B[43m)\u001B[49m\n\u001B[1;32m    132\u001B[0m \u001B[38;5;28;01mif\u001B[39;00m \u001B[38;5;28mlen\u001B[39m(ftylist) \u001B[38;5;241m>\u001B[39m \u001B[38;5;241m0\u001B[39m:\n\u001B[1;32m    133\u001B[0m     vec\u001B[38;5;241m.\u001B[39mdisable_compile()\n",
      "File \u001B[0;32m~/Desktop/OOPAO_ast/env_oopao_ast/lib/python3.10/site-packages/numba/np/ufunc/ufuncbuilder.py:257\u001B[0m, in \u001B[0;36m_BaseUFuncBuilder.add\u001B[0;34m(self, sig)\u001B[0m\n\u001B[1;32m    255\u001B[0m \u001B[38;5;28;01melse\u001B[39;00m:\n\u001B[1;32m    256\u001B[0m     targetoptions \u001B[38;5;241m=\u001B[39m \u001B[38;5;28mself\u001B[39m\u001B[38;5;241m.\u001B[39mnb_func\u001B[38;5;241m.\u001B[39mtargetoptions\n\u001B[0;32m--> 257\u001B[0m cres, args, return_type \u001B[38;5;241m=\u001B[39m \u001B[43m_compile_element_wise_function\u001B[49m\u001B[43m(\u001B[49m\n\u001B[1;32m    258\u001B[0m \u001B[43m    \u001B[49m\u001B[38;5;28;43mself\u001B[39;49m\u001B[38;5;241;43m.\u001B[39;49m\u001B[43mnb_func\u001B[49m\u001B[43m,\u001B[49m\u001B[43m \u001B[49m\u001B[43mtargetoptions\u001B[49m\u001B[43m,\u001B[49m\u001B[43m \u001B[49m\u001B[43msig\u001B[49m\u001B[43m)\u001B[49m\n\u001B[1;32m    259\u001B[0m sig \u001B[38;5;241m=\u001B[39m \u001B[38;5;28mself\u001B[39m\u001B[38;5;241m.\u001B[39m_finalize_signature(cres, args, return_type)\n\u001B[1;32m    260\u001B[0m \u001B[38;5;28mself\u001B[39m\u001B[38;5;241m.\u001B[39m_sigs\u001B[38;5;241m.\u001B[39mappend(sig)\n",
      "File \u001B[0;32m~/Desktop/OOPAO_ast/env_oopao_ast/lib/python3.10/site-packages/numba/np/ufunc/ufuncbuilder.py:175\u001B[0m, in \u001B[0;36m_compile_element_wise_function\u001B[0;34m(nb_func, targetoptions, sig)\u001B[0m\n\u001B[1;32m    172\u001B[0m \u001B[38;5;28;01mdef\u001B[39;00m\u001B[38;5;250m \u001B[39m\u001B[38;5;21m_compile_element_wise_function\u001B[39m(nb_func, targetoptions, sig):\n\u001B[1;32m    173\u001B[0m     \u001B[38;5;66;03m# Do compilation\u001B[39;00m\n\u001B[1;32m    174\u001B[0m     \u001B[38;5;66;03m# Return CompileResult to test\u001B[39;00m\n\u001B[0;32m--> 175\u001B[0m     cres \u001B[38;5;241m=\u001B[39m \u001B[43mnb_func\u001B[49m\u001B[38;5;241;43m.\u001B[39;49m\u001B[43mcompile\u001B[49m\u001B[43m(\u001B[49m\u001B[43msig\u001B[49m\u001B[43m,\u001B[49m\u001B[43m \u001B[49m\u001B[38;5;241;43m*\u001B[39;49m\u001B[38;5;241;43m*\u001B[39;49m\u001B[43mtargetoptions\u001B[49m\u001B[43m)\u001B[49m\n\u001B[1;32m    176\u001B[0m     args, return_type \u001B[38;5;241m=\u001B[39m sigutils\u001B[38;5;241m.\u001B[39mnormalize_signature(sig)\n\u001B[1;32m    177\u001B[0m     \u001B[38;5;28;01mreturn\u001B[39;00m cres, args, return_type\n",
      "File \u001B[0;32m~/Desktop/OOPAO_ast/env_oopao_ast/lib/python3.10/site-packages/numba/np/ufunc/ufuncbuilder.py:123\u001B[0m, in \u001B[0;36mUFuncDispatcher.compile\u001B[0;34m(self, sig, locals, **targetoptions)\u001B[0m\n\u001B[1;32m    118\u001B[0m \u001B[38;5;66;03m# Disable loop lifting\u001B[39;00m\n\u001B[1;32m    119\u001B[0m \u001B[38;5;66;03m# The feature requires a real\u001B[39;00m\n\u001B[1;32m    120\u001B[0m \u001B[38;5;66;03m#  python function\u001B[39;00m\n\u001B[1;32m    121\u001B[0m flags\u001B[38;5;241m.\u001B[39menable_looplift \u001B[38;5;241m=\u001B[39m \u001B[38;5;28;01mFalse\u001B[39;00m\n\u001B[0;32m--> 123\u001B[0m \u001B[38;5;28;01mreturn\u001B[39;00m \u001B[38;5;28;43mself\u001B[39;49m\u001B[38;5;241;43m.\u001B[39;49m\u001B[43m_compile_core\u001B[49m\u001B[43m(\u001B[49m\u001B[43msig\u001B[49m\u001B[43m,\u001B[49m\u001B[43m \u001B[49m\u001B[43mflags\u001B[49m\u001B[43m,\u001B[49m\u001B[43m \u001B[49m\u001B[38;5;28;43mlocals\u001B[39;49m\u001B[43m)\u001B[49m\n",
      "File \u001B[0;32m~/Desktop/OOPAO_ast/env_oopao_ast/lib/python3.10/site-packages/numba/np/ufunc/ufuncbuilder.py:156\u001B[0m, in \u001B[0;36mUFuncDispatcher._compile_core\u001B[0;34m(self, sig, flags, locals)\u001B[0m\n\u001B[1;32m    154\u001B[0m \u001B[38;5;66;03m# Compile\u001B[39;00m\n\u001B[1;32m    155\u001B[0m args, return_type \u001B[38;5;241m=\u001B[39m sigutils\u001B[38;5;241m.\u001B[39mnormalize_signature(sig)\n\u001B[0;32m--> 156\u001B[0m cres \u001B[38;5;241m=\u001B[39m \u001B[43mcompiler\u001B[49m\u001B[38;5;241;43m.\u001B[39;49m\u001B[43mcompile_extra\u001B[49m\u001B[43m(\u001B[49m\u001B[43mtypingctx\u001B[49m\u001B[43m,\u001B[49m\u001B[43m \u001B[49m\u001B[43mtargetctx\u001B[49m\u001B[43m,\u001B[49m\n\u001B[1;32m    157\u001B[0m \u001B[43m                              \u001B[49m\u001B[38;5;28;43mself\u001B[39;49m\u001B[38;5;241;43m.\u001B[39;49m\u001B[43mpy_func\u001B[49m\u001B[43m,\u001B[49m\u001B[43m \u001B[49m\u001B[43margs\u001B[49m\u001B[38;5;241;43m=\u001B[39;49m\u001B[43margs\u001B[49m\u001B[43m,\u001B[49m\n\u001B[1;32m    158\u001B[0m \u001B[43m                              \u001B[49m\u001B[43mreturn_type\u001B[49m\u001B[38;5;241;43m=\u001B[39;49m\u001B[43mreturn_type\u001B[49m\u001B[43m,\u001B[49m\n\u001B[1;32m    159\u001B[0m \u001B[43m                              \u001B[49m\u001B[43mflags\u001B[49m\u001B[38;5;241;43m=\u001B[39;49m\u001B[43mflags\u001B[49m\u001B[43m,\u001B[49m\u001B[43m \u001B[49m\u001B[38;5;28;43mlocals\u001B[39;49m\u001B[38;5;241;43m=\u001B[39;49m\u001B[38;5;28;43mlocals\u001B[39;49m\u001B[43m)\u001B[49m\n\u001B[1;32m    161\u001B[0m \u001B[38;5;66;03m# cache lookup failed before so safe to save\u001B[39;00m\n\u001B[1;32m    162\u001B[0m \u001B[38;5;28mself\u001B[39m\u001B[38;5;241m.\u001B[39mcache\u001B[38;5;241m.\u001B[39msave_overload(sig, cres)\n",
      "File \u001B[0;32m~/Desktop/OOPAO_ast/env_oopao_ast/lib/python3.10/site-packages/numba/core/compiler.py:739\u001B[0m, in \u001B[0;36mcompile_extra\u001B[0;34m(typingctx, targetctx, func, args, return_type, flags, locals, library, pipeline_class)\u001B[0m\n\u001B[1;32m    715\u001B[0m \u001B[38;5;250m\u001B[39m\u001B[38;5;124;03m\"\"\"Compiler entry point\u001B[39;00m\n\u001B[1;32m    716\u001B[0m \n\u001B[1;32m    717\u001B[0m \u001B[38;5;124;03mParameter\u001B[39;00m\n\u001B[0;32m   (...)\u001B[0m\n\u001B[1;32m    735\u001B[0m \u001B[38;5;124;03m    compiler pipeline\u001B[39;00m\n\u001B[1;32m    736\u001B[0m \u001B[38;5;124;03m\"\"\"\u001B[39;00m\n\u001B[1;32m    737\u001B[0m pipeline \u001B[38;5;241m=\u001B[39m pipeline_class(typingctx, targetctx, library,\n\u001B[1;32m    738\u001B[0m                           args, return_type, flags, \u001B[38;5;28mlocals\u001B[39m)\n\u001B[0;32m--> 739\u001B[0m \u001B[38;5;28;01mreturn\u001B[39;00m \u001B[43mpipeline\u001B[49m\u001B[38;5;241;43m.\u001B[39;49m\u001B[43mcompile_extra\u001B[49m\u001B[43m(\u001B[49m\u001B[43mfunc\u001B[49m\u001B[43m)\u001B[49m\n",
      "File \u001B[0;32m~/Desktop/OOPAO_ast/env_oopao_ast/lib/python3.10/site-packages/numba/core/compiler.py:439\u001B[0m, in \u001B[0;36mCompilerBase.compile_extra\u001B[0;34m(self, func)\u001B[0m\n\u001B[1;32m    437\u001B[0m \u001B[38;5;28mself\u001B[39m\u001B[38;5;241m.\u001B[39mstate\u001B[38;5;241m.\u001B[39mlifted \u001B[38;5;241m=\u001B[39m ()\n\u001B[1;32m    438\u001B[0m \u001B[38;5;28mself\u001B[39m\u001B[38;5;241m.\u001B[39mstate\u001B[38;5;241m.\u001B[39mlifted_from \u001B[38;5;241m=\u001B[39m \u001B[38;5;28;01mNone\u001B[39;00m\n\u001B[0;32m--> 439\u001B[0m \u001B[38;5;28;01mreturn\u001B[39;00m \u001B[38;5;28;43mself\u001B[39;49m\u001B[38;5;241;43m.\u001B[39;49m\u001B[43m_compile_bytecode\u001B[49m\u001B[43m(\u001B[49m\u001B[43m)\u001B[49m\n",
      "File \u001B[0;32m~/Desktop/OOPAO_ast/env_oopao_ast/lib/python3.10/site-packages/numba/core/compiler.py:505\u001B[0m, in \u001B[0;36mCompilerBase._compile_bytecode\u001B[0;34m(self)\u001B[0m\n\u001B[1;32m    501\u001B[0m \u001B[38;5;250m\u001B[39m\u001B[38;5;124;03m\"\"\"\u001B[39;00m\n\u001B[1;32m    502\u001B[0m \u001B[38;5;124;03mPopulate and run pipeline for bytecode input\u001B[39;00m\n\u001B[1;32m    503\u001B[0m \u001B[38;5;124;03m\"\"\"\u001B[39;00m\n\u001B[1;32m    504\u001B[0m \u001B[38;5;28;01massert\u001B[39;00m \u001B[38;5;28mself\u001B[39m\u001B[38;5;241m.\u001B[39mstate\u001B[38;5;241m.\u001B[39mfunc_ir \u001B[38;5;129;01mis\u001B[39;00m \u001B[38;5;28;01mNone\u001B[39;00m\n\u001B[0;32m--> 505\u001B[0m \u001B[38;5;28;01mreturn\u001B[39;00m \u001B[38;5;28;43mself\u001B[39;49m\u001B[38;5;241;43m.\u001B[39;49m\u001B[43m_compile_core\u001B[49m\u001B[43m(\u001B[49m\u001B[43m)\u001B[49m\n",
      "File \u001B[0;32m~/Desktop/OOPAO_ast/env_oopao_ast/lib/python3.10/site-packages/numba/core/compiler.py:484\u001B[0m, in \u001B[0;36mCompilerBase._compile_core\u001B[0;34m(self)\u001B[0m\n\u001B[1;32m    482\u001B[0m         \u001B[38;5;28mself\u001B[39m\u001B[38;5;241m.\u001B[39mstate\u001B[38;5;241m.\u001B[39mstatus\u001B[38;5;241m.\u001B[39mfail_reason \u001B[38;5;241m=\u001B[39m e\n\u001B[1;32m    483\u001B[0m         \u001B[38;5;28;01mif\u001B[39;00m is_final_pipeline:\n\u001B[0;32m--> 484\u001B[0m             \u001B[38;5;28;01mraise\u001B[39;00m e\n\u001B[1;32m    485\u001B[0m \u001B[38;5;28;01melse\u001B[39;00m:\n\u001B[1;32m    486\u001B[0m     \u001B[38;5;28;01mraise\u001B[39;00m CompilerError(\u001B[38;5;124m\"\u001B[39m\u001B[38;5;124mAll available pipelines exhausted\u001B[39m\u001B[38;5;124m\"\u001B[39m)\n",
      "File \u001B[0;32m~/Desktop/OOPAO_ast/env_oopao_ast/lib/python3.10/site-packages/numba/core/compiler.py:473\u001B[0m, in \u001B[0;36mCompilerBase._compile_core\u001B[0;34m(self)\u001B[0m\n\u001B[1;32m    471\u001B[0m res \u001B[38;5;241m=\u001B[39m \u001B[38;5;28;01mNone\u001B[39;00m\n\u001B[1;32m    472\u001B[0m \u001B[38;5;28;01mtry\u001B[39;00m:\n\u001B[0;32m--> 473\u001B[0m     \u001B[43mpm\u001B[49m\u001B[38;5;241;43m.\u001B[39;49m\u001B[43mrun\u001B[49m\u001B[43m(\u001B[49m\u001B[38;5;28;43mself\u001B[39;49m\u001B[38;5;241;43m.\u001B[39;49m\u001B[43mstate\u001B[49m\u001B[43m)\u001B[49m\n\u001B[1;32m    474\u001B[0m     \u001B[38;5;28;01mif\u001B[39;00m \u001B[38;5;28mself\u001B[39m\u001B[38;5;241m.\u001B[39mstate\u001B[38;5;241m.\u001B[39mcr \u001B[38;5;129;01mis\u001B[39;00m \u001B[38;5;129;01mnot\u001B[39;00m \u001B[38;5;28;01mNone\u001B[39;00m:\n\u001B[1;32m    475\u001B[0m         \u001B[38;5;28;01mbreak\u001B[39;00m\n",
      "File \u001B[0;32m~/Desktop/OOPAO_ast/env_oopao_ast/lib/python3.10/site-packages/numba/core/compiler_machinery.py:367\u001B[0m, in \u001B[0;36mPassManager.run\u001B[0;34m(self, state)\u001B[0m\n\u001B[1;32m    364\u001B[0m msg \u001B[38;5;241m=\u001B[39m \u001B[38;5;124m\"\u001B[39m\u001B[38;5;124mFailed in \u001B[39m\u001B[38;5;132;01m%s\u001B[39;00m\u001B[38;5;124m mode pipeline (step: \u001B[39m\u001B[38;5;132;01m%s\u001B[39;00m\u001B[38;5;124m)\u001B[39m\u001B[38;5;124m\"\u001B[39m \u001B[38;5;241m%\u001B[39m \\\n\u001B[1;32m    365\u001B[0m     (\u001B[38;5;28mself\u001B[39m\u001B[38;5;241m.\u001B[39mpipeline_name, pass_desc)\n\u001B[1;32m    366\u001B[0m patched_exception \u001B[38;5;241m=\u001B[39m \u001B[38;5;28mself\u001B[39m\u001B[38;5;241m.\u001B[39m_patch_error(msg, e)\n\u001B[0;32m--> 367\u001B[0m \u001B[38;5;28;01mraise\u001B[39;00m patched_exception\n",
      "File \u001B[0;32m~/Desktop/OOPAO_ast/env_oopao_ast/lib/python3.10/site-packages/numba/core/compiler_machinery.py:356\u001B[0m, in \u001B[0;36mPassManager.run\u001B[0;34m(self, state)\u001B[0m\n\u001B[1;32m    354\u001B[0m pass_inst \u001B[38;5;241m=\u001B[39m _pass_registry\u001B[38;5;241m.\u001B[39mget(pss)\u001B[38;5;241m.\u001B[39mpass_inst\n\u001B[1;32m    355\u001B[0m \u001B[38;5;28;01mif\u001B[39;00m \u001B[38;5;28misinstance\u001B[39m(pass_inst, CompilerPass):\n\u001B[0;32m--> 356\u001B[0m     \u001B[38;5;28;43mself\u001B[39;49m\u001B[38;5;241;43m.\u001B[39;49m\u001B[43m_runPass\u001B[49m\u001B[43m(\u001B[49m\u001B[43midx\u001B[49m\u001B[43m,\u001B[49m\u001B[43m \u001B[49m\u001B[43mpass_inst\u001B[49m\u001B[43m,\u001B[49m\u001B[43m \u001B[49m\u001B[43mstate\u001B[49m\u001B[43m)\u001B[49m\n\u001B[1;32m    357\u001B[0m \u001B[38;5;28;01melse\u001B[39;00m:\n\u001B[1;32m    358\u001B[0m     \u001B[38;5;28;01mraise\u001B[39;00m \u001B[38;5;167;01mBaseException\u001B[39;00m(\u001B[38;5;124m\"\u001B[39m\u001B[38;5;124mLegacy pass in use\u001B[39m\u001B[38;5;124m\"\u001B[39m)\n",
      "File \u001B[0;32m~/Desktop/OOPAO_ast/env_oopao_ast/lib/python3.10/site-packages/numba/core/compiler_lock.py:35\u001B[0m, in \u001B[0;36m_CompilerLock.__call__.<locals>._acquire_compile_lock\u001B[0;34m(*args, **kwargs)\u001B[0m\n\u001B[1;32m     32\u001B[0m \u001B[38;5;129m@functools\u001B[39m\u001B[38;5;241m.\u001B[39mwraps(func)\n\u001B[1;32m     33\u001B[0m \u001B[38;5;28;01mdef\u001B[39;00m\u001B[38;5;250m \u001B[39m\u001B[38;5;21m_acquire_compile_lock\u001B[39m(\u001B[38;5;241m*\u001B[39margs, \u001B[38;5;241m*\u001B[39m\u001B[38;5;241m*\u001B[39mkwargs):\n\u001B[1;32m     34\u001B[0m     \u001B[38;5;28;01mwith\u001B[39;00m \u001B[38;5;28mself\u001B[39m:\n\u001B[0;32m---> 35\u001B[0m         \u001B[38;5;28;01mreturn\u001B[39;00m \u001B[43mfunc\u001B[49m\u001B[43m(\u001B[49m\u001B[38;5;241;43m*\u001B[39;49m\u001B[43margs\u001B[49m\u001B[43m,\u001B[49m\u001B[43m \u001B[49m\u001B[38;5;241;43m*\u001B[39;49m\u001B[38;5;241;43m*\u001B[39;49m\u001B[43mkwargs\u001B[49m\u001B[43m)\u001B[49m\n",
      "File \u001B[0;32m~/Desktop/OOPAO_ast/env_oopao_ast/lib/python3.10/site-packages/numba/core/compiler_machinery.py:311\u001B[0m, in \u001B[0;36mPassManager._runPass\u001B[0;34m(self, index, pss, internal_state)\u001B[0m\n\u001B[1;32m    309\u001B[0m     mutated \u001B[38;5;241m|\u001B[39m\u001B[38;5;241m=\u001B[39m check(pss\u001B[38;5;241m.\u001B[39mrun_initialization, internal_state)\n\u001B[1;32m    310\u001B[0m \u001B[38;5;28;01mwith\u001B[39;00m SimpleTimer() \u001B[38;5;28;01mas\u001B[39;00m pass_time:\n\u001B[0;32m--> 311\u001B[0m     mutated \u001B[38;5;241m|\u001B[39m\u001B[38;5;241m=\u001B[39m \u001B[43mcheck\u001B[49m\u001B[43m(\u001B[49m\u001B[43mpss\u001B[49m\u001B[38;5;241;43m.\u001B[39;49m\u001B[43mrun_pass\u001B[49m\u001B[43m,\u001B[49m\u001B[43m \u001B[49m\u001B[43minternal_state\u001B[49m\u001B[43m)\u001B[49m\n\u001B[1;32m    312\u001B[0m \u001B[38;5;28;01mwith\u001B[39;00m SimpleTimer() \u001B[38;5;28;01mas\u001B[39;00m finalize_time:\n\u001B[1;32m    313\u001B[0m     mutated \u001B[38;5;241m|\u001B[39m\u001B[38;5;241m=\u001B[39m check(pss\u001B[38;5;241m.\u001B[39mrun_finalizer, internal_state)\n",
      "File \u001B[0;32m~/Desktop/OOPAO_ast/env_oopao_ast/lib/python3.10/site-packages/numba/core/compiler_machinery.py:272\u001B[0m, in \u001B[0;36mPassManager._runPass.<locals>.check\u001B[0;34m(func, compiler_state)\u001B[0m\n\u001B[1;32m    271\u001B[0m \u001B[38;5;28;01mdef\u001B[39;00m\u001B[38;5;250m \u001B[39m\u001B[38;5;21mcheck\u001B[39m(func, compiler_state):\n\u001B[0;32m--> 272\u001B[0m     mangled \u001B[38;5;241m=\u001B[39m \u001B[43mfunc\u001B[49m\u001B[43m(\u001B[49m\u001B[43mcompiler_state\u001B[49m\u001B[43m)\u001B[49m\n\u001B[1;32m    273\u001B[0m     \u001B[38;5;28;01mif\u001B[39;00m mangled \u001B[38;5;129;01mnot\u001B[39;00m \u001B[38;5;129;01min\u001B[39;00m (\u001B[38;5;28;01mTrue\u001B[39;00m, \u001B[38;5;28;01mFalse\u001B[39;00m):\n\u001B[1;32m    274\u001B[0m         msg \u001B[38;5;241m=\u001B[39m (\u001B[38;5;124m\"\u001B[39m\u001B[38;5;124mCompilerPass implementations should return True/False. \u001B[39m\u001B[38;5;124m\"\u001B[39m\n\u001B[1;32m    275\u001B[0m                \u001B[38;5;124m\"\u001B[39m\u001B[38;5;124mCompilerPass with name \u001B[39m\u001B[38;5;124m'\u001B[39m\u001B[38;5;132;01m%s\u001B[39;00m\u001B[38;5;124m'\u001B[39m\u001B[38;5;124m did not.\u001B[39m\u001B[38;5;124m\"\u001B[39m)\n",
      "File \u001B[0;32m~/Desktop/OOPAO_ast/env_oopao_ast/lib/python3.10/site-packages/numba/core/typed_passes.py:112\u001B[0m, in \u001B[0;36mBaseTypeInference.run_pass\u001B[0;34m(self, state)\u001B[0m\n\u001B[1;32m    106\u001B[0m \u001B[38;5;250m\u001B[39m\u001B[38;5;124;03m\"\"\"\u001B[39;00m\n\u001B[1;32m    107\u001B[0m \u001B[38;5;124;03mType inference and legalization\u001B[39;00m\n\u001B[1;32m    108\u001B[0m \u001B[38;5;124;03m\"\"\"\u001B[39;00m\n\u001B[1;32m    109\u001B[0m \u001B[38;5;28;01mwith\u001B[39;00m fallback_context(state, \u001B[38;5;124m'\u001B[39m\u001B[38;5;124mFunction \u001B[39m\u001B[38;5;124m\"\u001B[39m\u001B[38;5;132;01m%s\u001B[39;00m\u001B[38;5;124m\"\u001B[39m\u001B[38;5;124m failed type inference\u001B[39m\u001B[38;5;124m'\u001B[39m\n\u001B[1;32m    110\u001B[0m                       \u001B[38;5;241m%\u001B[39m (state\u001B[38;5;241m.\u001B[39mfunc_id\u001B[38;5;241m.\u001B[39mfunc_name,)):\n\u001B[1;32m    111\u001B[0m     \u001B[38;5;66;03m# Type inference\u001B[39;00m\n\u001B[0;32m--> 112\u001B[0m     typemap, return_type, calltypes, errs \u001B[38;5;241m=\u001B[39m \u001B[43mtype_inference_stage\u001B[49m\u001B[43m(\u001B[49m\n\u001B[1;32m    113\u001B[0m \u001B[43m        \u001B[49m\u001B[43mstate\u001B[49m\u001B[38;5;241;43m.\u001B[39;49m\u001B[43mtypingctx\u001B[49m\u001B[43m,\u001B[49m\n\u001B[1;32m    114\u001B[0m \u001B[43m        \u001B[49m\u001B[43mstate\u001B[49m\u001B[38;5;241;43m.\u001B[39;49m\u001B[43mtargetctx\u001B[49m\u001B[43m,\u001B[49m\n\u001B[1;32m    115\u001B[0m \u001B[43m        \u001B[49m\u001B[43mstate\u001B[49m\u001B[38;5;241;43m.\u001B[39;49m\u001B[43mfunc_ir\u001B[49m\u001B[43m,\u001B[49m\n\u001B[1;32m    116\u001B[0m \u001B[43m        \u001B[49m\u001B[43mstate\u001B[49m\u001B[38;5;241;43m.\u001B[39;49m\u001B[43margs\u001B[49m\u001B[43m,\u001B[49m\n\u001B[1;32m    117\u001B[0m \u001B[43m        \u001B[49m\u001B[43mstate\u001B[49m\u001B[38;5;241;43m.\u001B[39;49m\u001B[43mreturn_type\u001B[49m\u001B[43m,\u001B[49m\n\u001B[1;32m    118\u001B[0m \u001B[43m        \u001B[49m\u001B[43mstate\u001B[49m\u001B[38;5;241;43m.\u001B[39;49m\u001B[43mlocals\u001B[49m\u001B[43m,\u001B[49m\n\u001B[1;32m    119\u001B[0m \u001B[43m        \u001B[49m\u001B[43mraise_errors\u001B[49m\u001B[38;5;241;43m=\u001B[39;49m\u001B[38;5;28;43mself\u001B[39;49m\u001B[38;5;241;43m.\u001B[39;49m\u001B[43m_raise_errors\u001B[49m\u001B[43m)\u001B[49m\n\u001B[1;32m    120\u001B[0m     state\u001B[38;5;241m.\u001B[39mtypemap \u001B[38;5;241m=\u001B[39m typemap\n\u001B[1;32m    121\u001B[0m     \u001B[38;5;66;03m# save errors in case of partial typing\u001B[39;00m\n",
      "File \u001B[0;32m~/Desktop/OOPAO_ast/env_oopao_ast/lib/python3.10/site-packages/numba/core/typed_passes.py:93\u001B[0m, in \u001B[0;36mtype_inference_stage\u001B[0;34m(typingctx, targetctx, interp, args, return_type, locals, raise_errors)\u001B[0m\n\u001B[1;32m     91\u001B[0m     infer\u001B[38;5;241m.\u001B[39mbuild_constraint()\n\u001B[1;32m     92\u001B[0m     \u001B[38;5;66;03m# return errors in case of partial typing\u001B[39;00m\n\u001B[0;32m---> 93\u001B[0m     errs \u001B[38;5;241m=\u001B[39m \u001B[43minfer\u001B[49m\u001B[38;5;241;43m.\u001B[39;49m\u001B[43mpropagate\u001B[49m\u001B[43m(\u001B[49m\u001B[43mraise_errors\u001B[49m\u001B[38;5;241;43m=\u001B[39;49m\u001B[43mraise_errors\u001B[49m\u001B[43m)\u001B[49m\n\u001B[1;32m     94\u001B[0m     typemap, restype, calltypes \u001B[38;5;241m=\u001B[39m infer\u001B[38;5;241m.\u001B[39munify(raise_errors\u001B[38;5;241m=\u001B[39mraise_errors)\n\u001B[1;32m     96\u001B[0m \u001B[38;5;28;01mreturn\u001B[39;00m _TypingResults(typemap, restype, calltypes, errs)\n",
      "File \u001B[0;32m~/Desktop/OOPAO_ast/env_oopao_ast/lib/python3.10/site-packages/numba/core/typeinfer.py:1074\u001B[0m, in \u001B[0;36mTypeInferer.propagate\u001B[0;34m(self, raise_errors)\u001B[0m\n\u001B[1;32m   1071\u001B[0m force_lit_args \u001B[38;5;241m=\u001B[39m [e \u001B[38;5;28;01mfor\u001B[39;00m e \u001B[38;5;129;01min\u001B[39;00m errors\n\u001B[1;32m   1072\u001B[0m                   \u001B[38;5;28;01mif\u001B[39;00m \u001B[38;5;28misinstance\u001B[39m(e, ForceLiteralArg)]\n\u001B[1;32m   1073\u001B[0m \u001B[38;5;28;01mif\u001B[39;00m \u001B[38;5;129;01mnot\u001B[39;00m force_lit_args:\n\u001B[0;32m-> 1074\u001B[0m     \u001B[38;5;28;01mraise\u001B[39;00m errors[\u001B[38;5;241m0\u001B[39m]\n\u001B[1;32m   1075\u001B[0m \u001B[38;5;28;01melse\u001B[39;00m:\n\u001B[1;32m   1076\u001B[0m     \u001B[38;5;28;01mraise\u001B[39;00m reduce(operator\u001B[38;5;241m.\u001B[39mor_, force_lit_args)\n",
      "\u001B[0;31mTypingError\u001B[0m: Failed in nopython mode pipeline (step: nopython frontend)\nFailed in nopython mode pipeline (step: nopython frontend)\nUnknown attribute 'shape' of type float64\n\nFile \"../../../../../tmp/ipykernel_16049/834780515.py\", line 6:\n<source missing, REPL/exec in use?>\n\nDuring: typing of get attribute at /tmp/ipykernel_16049/834780515.py (6)\n\nFile \"../../../../../tmp/ipykernel_16049/834780515.py\", line 6:\n<source missing, REPL/exec in use?>\n\nDuring: Pass nopython_type_inference\nDuring: resolving callee type: type(CPUDispatcher(<function bessel_i_series_numba at 0x7409ff3672e0>))\nDuring: typing of call at /tmp/ipykernel_16049/834780515.py (36)\n\nDuring: resolving callee type: type(CPUDispatcher(<function bessel_i_series_numba at 0x7409ff3672e0>))\nDuring: typing of call at /tmp/ipykernel_16049/834780515.py (36)\n\nDuring: resolving callee type: type(CPUDispatcher(<function bessel_i_series_numba at 0x7409ff3672e0>))\nDuring: typing of call at /tmp/ipykernel_16049/834780515.py (36)\n\n\nFile \"../../../../../tmp/ipykernel_16049/834780515.py\", line 36:\n<source missing, REPL/exec in use?>\n\nDuring: Pass nopython_type_inference"
     ]
    }
   ],
   "execution_count": 68
  },
  {
   "metadata": {
    "ExecuteTime": {
     "end_time": "2025-05-22T14:41:21.846290Z",
     "start_time": "2025-05-22T14:41:21.779637Z"
    }
   },
   "cell_type": "code",
   "source": "u = np.random.rand(10000000)",
   "id": "bd1691818064cddc",
   "outputs": [],
   "execution_count": 62
  },
  {
   "metadata": {
    "ExecuteTime": {
     "end_time": "2025-05-22T14:45:16.858797Z",
     "start_time": "2025-05-22T14:45:14.065874Z"
    }
   },
   "cell_type": "code",
   "source": [
    "sp = kv(5/6, u)\n",
    "sp"
   ],
   "id": "4e3bed38e6f7f9d",
   "outputs": [
    {
     "data": {
      "text/plain": [
       "array([ 0.86689741,  0.69178212,  2.77652309, ...,  1.4163619 ,\n",
       "        3.29191202, 10.03222968], shape=(10000000,))"
      ]
     },
     "execution_count": 65,
     "metadata": {},
     "output_type": "execute_result"
    }
   ],
   "execution_count": 65
  },
  {
   "metadata": {
    "ExecuteTime": {
     "end_time": "2025-05-22T14:45:19.311538Z",
     "start_time": "2025-05-22T14:45:18.656191Z"
    }
   },
   "cell_type": "code",
   "source": [
    "pt = np.real(_kv56(u.astype(np.complex128)))\n",
    "pt\n"
   ],
   "id": "e77fe6a87d1e8354",
   "outputs": [
    {
     "data": {
      "text/plain": [
       "array([ 0.86689741,  0.69178212,  2.77652309, ...,  1.4163619 ,\n",
       "        3.29191202, 10.03222968], shape=(10000000,))"
      ]
     },
     "execution_count": 66,
     "metadata": {},
     "output_type": "execute_result"
    }
   ],
   "execution_count": 66
  },
  {
   "metadata": {},
   "cell_type": "code",
   "source": "",
   "id": "68774eab9def8ea2",
   "outputs": [],
   "execution_count": null
  }
 ],
 "metadata": {
  "kernelspec": {
   "display_name": "Python 3",
   "language": "python",
   "name": "python3"
  },
  "language_info": {
   "codemirror_mode": {
    "name": "ipython",
    "version": 2
   },
   "file_extension": ".py",
   "mimetype": "text/x-python",
   "name": "python",
   "nbconvert_exporter": "python",
   "pygments_lexer": "ipython2",
   "version": "2.7.6"
  }
 },
 "nbformat": 4,
 "nbformat_minor": 5
}
